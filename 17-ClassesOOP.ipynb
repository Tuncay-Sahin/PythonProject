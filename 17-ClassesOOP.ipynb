{
 "cells": [
  {
   "cell_type": "code",
   "execution_count": 1,
   "id": "90f58033",
   "metadata": {},
   "outputs": [],
   "source": [
    "class Person():\n",
    "    name = \"\"\n",
    "    age = 12\n",
    "    gender = \"\"\n",
    "    \n",
    "    #method, initializer\n",
    "    def __init__(self):\n",
    "        print(\"init executed\")\n",
    "        "
   ]
  },
  {
   "cell_type": "code",
   "execution_count": 2,
   "id": "e2a19366",
   "metadata": {},
   "outputs": [],
   "source": [
    "myList = list()"
   ]
  },
  {
   "cell_type": "code",
   "execution_count": 3,
   "id": "c266782e",
   "metadata": {},
   "outputs": [
    {
     "data": {
      "text/plain": [
       "list"
      ]
     },
     "execution_count": 3,
     "metadata": {},
     "output_type": "execute_result"
    }
   ],
   "source": [
    "type(myList)"
   ]
  },
  {
   "cell_type": "code",
   "execution_count": 4,
   "id": "75b1f7e6",
   "metadata": {},
   "outputs": [
    {
     "name": "stdout",
     "output_type": "stream",
     "text": [
      "init executed\n"
     ]
    }
   ],
   "source": [
    "tuncay = Person()"
   ]
  },
  {
   "cell_type": "code",
   "execution_count": 5,
   "id": "ae16f478",
   "metadata": {},
   "outputs": [
    {
     "data": {
      "text/plain": [
       "__main__.Person"
      ]
     },
     "execution_count": 5,
     "metadata": {},
     "output_type": "execute_result"
    }
   ],
   "source": [
    "type(tuncay)"
   ]
  },
  {
   "cell_type": "code",
   "execution_count": 6,
   "id": "f9731573",
   "metadata": {},
   "outputs": [],
   "source": [
    "tuncay.name =\"Tuncay Sahin\""
   ]
  },
  {
   "cell_type": "code",
   "execution_count": 7,
   "id": "1cd31b0e",
   "metadata": {},
   "outputs": [
    {
     "name": "stdout",
     "output_type": "stream",
     "text": [
      "init executed\n"
     ]
    }
   ],
   "source": [
    "atlas = Person()"
   ]
  },
  {
   "cell_type": "code",
   "execution_count": 8,
   "id": "b4dd2501",
   "metadata": {},
   "outputs": [
    {
     "data": {
      "text/plain": [
       "__main__.Person"
      ]
     },
     "execution_count": 8,
     "metadata": {},
     "output_type": "execute_result"
    }
   ],
   "source": [
    "type(tuncay)"
   ]
  },
  {
   "cell_type": "code",
   "execution_count": 9,
   "id": "3638db61",
   "metadata": {},
   "outputs": [
    {
     "data": {
      "text/plain": [
       "__main__.Person"
      ]
     },
     "execution_count": 9,
     "metadata": {},
     "output_type": "execute_result"
    }
   ],
   "source": [
    "type(atlas)"
   ]
  },
  {
   "cell_type": "code",
   "execution_count": 10,
   "id": "2e23163f",
   "metadata": {},
   "outputs": [],
   "source": [
    "class Person():\n",
    "    name = \"\"\n",
    "    age = 12\n",
    "    gender = \"\"\n",
    "    \n",
    "    def __init__(self,nameInput,ageInput,genderInput):\n",
    "        self.name = nameInput\n",
    "        self.age = ageInput\n",
    "        self.gender = genderInput"
   ]
  },
  {
   "cell_type": "code",
   "execution_count": 11,
   "id": "c32093d1",
   "metadata": {},
   "outputs": [],
   "source": [
    "tuncay = Person(\"tuncay\",34,\"male\")"
   ]
  },
  {
   "cell_type": "code",
   "execution_count": 12,
   "id": "f689870e",
   "metadata": {},
   "outputs": [
    {
     "data": {
      "text/plain": [
       "__main__.Person"
      ]
     },
     "execution_count": 12,
     "metadata": {},
     "output_type": "execute_result"
    }
   ],
   "source": [
    "type(tuncay)"
   ]
  },
  {
   "cell_type": "code",
   "execution_count": 13,
   "id": "4b02013e",
   "metadata": {},
   "outputs": [
    {
     "data": {
      "text/plain": [
       "'tuncay'"
      ]
     },
     "execution_count": 13,
     "metadata": {},
     "output_type": "execute_result"
    }
   ],
   "source": [
    "tuncay.name"
   ]
  },
  {
   "cell_type": "code",
   "execution_count": 14,
   "id": "7891669c",
   "metadata": {},
   "outputs": [
    {
     "data": {
      "text/plain": [
       "34"
      ]
     },
     "execution_count": 14,
     "metadata": {},
     "output_type": "execute_result"
    }
   ],
   "source": [
    "tuncay.age"
   ]
  },
  {
   "cell_type": "code",
   "execution_count": 15,
   "id": "f781185d",
   "metadata": {},
   "outputs": [
    {
     "data": {
      "text/plain": [
       "'male'"
      ]
     },
     "execution_count": 15,
     "metadata": {},
     "output_type": "execute_result"
    }
   ],
   "source": [
    "tuncay.gender"
   ]
  },
  {
   "cell_type": "code",
   "execution_count": 16,
   "id": "65cbca0f",
   "metadata": {},
   "outputs": [],
   "source": [
    "# farklı methodlarda da çalışıyor"
   ]
  },
  {
   "cell_type": "code",
   "execution_count": 17,
   "id": "d638c7a2",
   "metadata": {},
   "outputs": [],
   "source": [
    "class Person():\n",
    "    name = \"\"\n",
    "    age = 12\n",
    "    gender = \"\"\n",
    "    job = \"\"\n",
    "    def __init__(self,name,age,gender):\n",
    "        self.name = name\n",
    "        self.age = age\n",
    "        self.gender = gender"
   ]
  },
  {
   "cell_type": "code",
   "execution_count": 18,
   "id": "945a600a",
   "metadata": {},
   "outputs": [],
   "source": [
    "tuncay = Person(\"tuncay\",34,\"male\")"
   ]
  },
  {
   "cell_type": "code",
   "execution_count": 19,
   "id": "eacb9228",
   "metadata": {},
   "outputs": [
    {
     "data": {
      "text/plain": [
       "__main__.Person"
      ]
     },
     "execution_count": 19,
     "metadata": {},
     "output_type": "execute_result"
    }
   ],
   "source": [
    "type(tuncay)"
   ]
  },
  {
   "cell_type": "code",
   "execution_count": 20,
   "id": "3ae64365",
   "metadata": {},
   "outputs": [
    {
     "data": {
      "text/plain": [
       "'tuncay'"
      ]
     },
     "execution_count": 20,
     "metadata": {},
     "output_type": "execute_result"
    }
   ],
   "source": [
    "tuncay.name"
   ]
  },
  {
   "cell_type": "code",
   "execution_count": 21,
   "id": "4cc0f595",
   "metadata": {},
   "outputs": [
    {
     "data": {
      "text/plain": [
       "34"
      ]
     },
     "execution_count": 21,
     "metadata": {},
     "output_type": "execute_result"
    }
   ],
   "source": [
    "tuncay.age"
   ]
  },
  {
   "cell_type": "code",
   "execution_count": 22,
   "id": "6eeedead",
   "metadata": {},
   "outputs": [
    {
     "data": {
      "text/plain": [
       "'male'"
      ]
     },
     "execution_count": 22,
     "metadata": {},
     "output_type": "execute_result"
    }
   ],
   "source": [
    "tuncay.gender"
   ]
  },
  {
   "cell_type": "code",
   "execution_count": 23,
   "id": "81b17f90",
   "metadata": {},
   "outputs": [],
   "source": [
    "tuncay.job = \"scientist\""
   ]
  },
  {
   "cell_type": "code",
   "execution_count": 24,
   "id": "7920b23b",
   "metadata": {},
   "outputs": [
    {
     "data": {
      "text/plain": [
       "'scientist'"
      ]
     },
     "execution_count": 24,
     "metadata": {},
     "output_type": "execute_result"
    }
   ],
   "source": [
    "tuncay.job"
   ]
  },
  {
   "cell_type": "code",
   "execution_count": 29,
   "id": "6e35efef",
   "metadata": {},
   "outputs": [],
   "source": [
    "class Dog():\n",
    "    year = 7\n",
    "    \n",
    "    def __init__(self,age):\n",
    "        self.age = age\n",
    "        \n",
    "    def humanAge(self):\n",
    "        return self.age * self.year #Dog.year = self.year"
   ]
  },
  {
   "cell_type": "code",
   "execution_count": 30,
   "id": "d0a35638",
   "metadata": {},
   "outputs": [],
   "source": [
    "myDog = Dog(3)"
   ]
  },
  {
   "cell_type": "code",
   "execution_count": 31,
   "id": "2e559fcf",
   "metadata": {},
   "outputs": [
    {
     "data": {
      "text/plain": [
       "3"
      ]
     },
     "execution_count": 31,
     "metadata": {},
     "output_type": "execute_result"
    }
   ],
   "source": [
    "myDog.age"
   ]
  },
  {
   "cell_type": "code",
   "execution_count": 32,
   "id": "a68a2fcd",
   "metadata": {},
   "outputs": [
    {
     "data": {
      "text/plain": [
       "21"
      ]
     },
     "execution_count": 32,
     "metadata": {},
     "output_type": "execute_result"
    }
   ],
   "source": [
    "myDog.humanAge()"
   ]
  },
  {
   "cell_type": "code",
   "execution_count": 38,
   "id": "7beaa6ea",
   "metadata": {},
   "outputs": [],
   "source": [
    "class Dog():\n",
    "    year = 7\n",
    "    \n",
    "    def __init__(self,age):\n",
    "        self.age = age\n",
    "        self.dogHumanAge = age * self.year\n",
    "        \n",
    "    def humanAge(self):\n",
    "        return self.age * self.year"
   ]
  },
  {
   "cell_type": "code",
   "execution_count": 39,
   "id": "67a47e68",
   "metadata": {},
   "outputs": [],
   "source": [
    "myDog = Dog(3)"
   ]
  },
  {
   "cell_type": "code",
   "execution_count": 40,
   "id": "8941b290",
   "metadata": {},
   "outputs": [
    {
     "data": {
      "text/plain": [
       "3"
      ]
     },
     "execution_count": 40,
     "metadata": {},
     "output_type": "execute_result"
    }
   ],
   "source": [
    "myDog.age"
   ]
  },
  {
   "cell_type": "code",
   "execution_count": 41,
   "id": "e9c60aed",
   "metadata": {},
   "outputs": [
    {
     "data": {
      "text/plain": [
       "21"
      ]
     },
     "execution_count": 41,
     "metadata": {},
     "output_type": "execute_result"
    }
   ],
   "source": [
    "myDog.humanAge()"
   ]
  },
  {
   "cell_type": "code",
   "execution_count": 43,
   "id": "f860506a",
   "metadata": {},
   "outputs": [
    {
     "data": {
      "text/plain": [
       "21"
      ]
     },
     "execution_count": 43,
     "metadata": {},
     "output_type": "execute_result"
    }
   ],
   "source": [
    "myDog.dogHumanAge"
   ]
  },
  {
   "cell_type": "code",
   "execution_count": 44,
   "id": "f0024c2c",
   "metadata": {},
   "outputs": [],
   "source": [
    "class Dog():\n",
    "    year = 7\n",
    "    \n",
    "    def __init__(self,age):\n",
    "        self.age = age\n",
    "        self.dogHumanAge = age * self.year\n",
    "        print(\"dog instance\")\n",
    "        \n",
    "    def humanAge(self):\n",
    "        return self.age * self.year"
   ]
  },
  {
   "cell_type": "code",
   "execution_count": 45,
   "id": "c0820888",
   "metadata": {},
   "outputs": [
    {
     "name": "stdout",
     "output_type": "stream",
     "text": [
      "dog instance\n"
     ]
    }
   ],
   "source": [
    "barley = Dog(3)"
   ]
  },
  {
   "cell_type": "code",
   "execution_count": 46,
   "id": "e795508c",
   "metadata": {},
   "outputs": [
    {
     "data": {
      "text/plain": [
       "21"
      ]
     },
     "execution_count": 46,
     "metadata": {},
     "output_type": "execute_result"
    }
   ],
   "source": [
    "barley.dogHumanAge"
   ]
  },
  {
   "cell_type": "code",
   "execution_count": null,
   "id": "7db029c3",
   "metadata": {},
   "outputs": [],
   "source": []
  }
 ],
 "metadata": {
  "kernelspec": {
   "display_name": "Python 3 (ipykernel)",
   "language": "python",
   "name": "python3"
  },
  "language_info": {
   "codemirror_mode": {
    "name": "ipython",
    "version": 3
   },
   "file_extension": ".py",
   "mimetype": "text/x-python",
   "name": "python",
   "nbconvert_exporter": "python",
   "pygments_lexer": "ipython3",
   "version": "3.10.9"
  }
 },
 "nbformat": 4,
 "nbformat_minor": 5
}
