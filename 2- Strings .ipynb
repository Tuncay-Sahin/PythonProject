{
 "cells": [
  {
   "cell_type": "code",
   "execution_count": 1,
   "id": "01bd2378",
   "metadata": {},
   "outputs": [
    {
     "data": {
      "text/plain": [
       "'hello world'"
      ]
     },
     "execution_count": 1,
     "metadata": {},
     "output_type": "execute_result"
    }
   ],
   "source": [
    "\"hello world\" # \"\" bir yazımın çıktısını almak için kullanılır"
   ]
  },
  {
   "cell_type": "code",
   "execution_count": 2,
   "id": "b2f4aecf",
   "metadata": {},
   "outputs": [
    {
     "name": "stdout",
     "output_type": "stream",
     "text": [
      "hello python\n"
     ]
    }
   ],
   "source": [
    "print(\"hello python\")"
   ]
  },
  {
   "cell_type": "code",
   "execution_count": 3,
   "id": "eeaac934",
   "metadata": {},
   "outputs": [],
   "source": [
    "name = \"tuncay\""
   ]
  },
  {
   "cell_type": "code",
   "execution_count": 4,
   "id": "fbc8908c",
   "metadata": {},
   "outputs": [
    {
     "data": {
      "text/plain": [
       "str"
      ]
     },
     "execution_count": 4,
     "metadata": {},
     "output_type": "execute_result"
    }
   ],
   "source": [
    "type(name)"
   ]
  },
  {
   "cell_type": "code",
   "execution_count": 5,
   "id": "7d8ad91d",
   "metadata": {},
   "outputs": [
    {
     "data": {
      "text/plain": [
       "'tuncay bilgisayar'"
      ]
     },
     "execution_count": 5,
     "metadata": {},
     "output_type": "execute_result"
    }
   ],
   "source": [
    "'tuncay bilgisayar'"
   ]
  },
  {
   "cell_type": "code",
   "execution_count": 6,
   "id": "099e3b4a",
   "metadata": {},
   "outputs": [
    {
     "data": {
      "text/plain": [
       "\"tuncay's computer\""
      ]
     },
     "execution_count": 6,
     "metadata": {},
     "output_type": "execute_result"
    }
   ],
   "source": [
    "\"tuncay's computer\""
   ]
  },
  {
   "cell_type": "code",
   "execution_count": 7,
   "id": "e3ba198a",
   "metadata": {},
   "outputs": [],
   "source": [
    "name = \"tuncay\""
   ]
  },
  {
   "cell_type": "code",
   "execution_count": 8,
   "id": "639130cb",
   "metadata": {},
   "outputs": [
    {
     "data": {
      "text/plain": [
       "str"
      ]
     },
     "execution_count": 8,
     "metadata": {},
     "output_type": "execute_result"
    }
   ],
   "source": [
    "type(name)"
   ]
  },
  {
   "cell_type": "code",
   "execution_count": 1,
   "id": "4388ca6b",
   "metadata": {},
   "outputs": [],
   "source": [
    "name = \"tuncay şahin\""
   ]
  },
  {
   "cell_type": "code",
   "execution_count": 2,
   "id": "752a1e88",
   "metadata": {},
   "outputs": [
    {
     "data": {
      "text/plain": [
       "'Tuncay şahin'"
      ]
     },
     "execution_count": 2,
     "metadata": {},
     "output_type": "execute_result"
    }
   ],
   "source": [
    "name. capitalize()"
   ]
  },
  {
   "cell_type": "code",
   "execution_count": 3,
   "id": "5fa5082f",
   "metadata": {},
   "outputs": [],
   "source": [
    "# capitqllize komutu isimi büyük harfle değiştirir # parantez açıp kapamak çalıştır komutu verir"
   ]
  },
  {
   "cell_type": "code",
   "execution_count": 11,
   "id": "d27006be",
   "metadata": {},
   "outputs": [],
   "source": [
    "x = 10"
   ]
  },
  {
   "cell_type": "code",
   "execution_count": 12,
   "id": "3b8adf1a",
   "metadata": {},
   "outputs": [
    {
     "name": "stdout",
     "output_type": "stream",
     "text": [
      "Help on built-in function count:\n",
      "\n",
      "count(...) method of builtins.str instance\n",
      "    S.count(sub[, start[, end]]) -> int\n",
      "    \n",
      "    Return the number of non-overlapping occurrences of substring sub in\n",
      "    string S[start:end].  Optional arguments start and end are\n",
      "    interpreted as in slice notation.\n",
      "\n"
     ]
    }
   ],
   "source": [
    "help(name.count)"
   ]
  },
  {
   "cell_type": "code",
   "execution_count": 13,
   "id": "13cd1233",
   "metadata": {},
   "outputs": [
    {
     "name": "stdout",
     "output_type": "stream",
     "text": [
      "Help on built-in function capitalize:\n",
      "\n",
      "capitalize() method of builtins.str instance\n",
      "    Return a capitalized version of the string.\n",
      "    \n",
      "    More specifically, make the first character have upper case and the rest lower\n",
      "    case.\n",
      "\n"
     ]
    }
   ],
   "source": [
    "help(name.capitalize)"
   ]
  },
  {
   "cell_type": "code",
   "execution_count": 14,
   "id": "079600d3",
   "metadata": {},
   "outputs": [
    {
     "data": {
      "text/plain": [
       "2"
      ]
     },
     "execution_count": 14,
     "metadata": {},
     "output_type": "execute_result"
    }
   ],
   "source": [
    "name.count(\"a\")"
   ]
  },
  {
   "cell_type": "code",
   "execution_count": 15,
   "id": "f9c57a1b",
   "metadata": {},
   "outputs": [
    {
     "data": {
      "text/plain": [
       "0"
      ]
     },
     "execution_count": 15,
     "metadata": {},
     "output_type": "execute_result"
    }
   ],
   "source": [
    "name.count(\"b\")"
   ]
  },
  {
   "cell_type": "code",
   "execution_count": 16,
   "id": "8ce33a7b",
   "metadata": {},
   "outputs": [
    {
     "data": {
      "text/plain": [
       "'TUNCAY ŞAHIN'"
      ]
     },
     "execution_count": 16,
     "metadata": {},
     "output_type": "execute_result"
    }
   ],
   "source": [
    "name.upper()"
   ]
  },
  {
   "cell_type": "code",
   "execution_count": 17,
   "id": "d5409437",
   "metadata": {},
   "outputs": [],
   "source": [
    "x = 10\n",
    "y = 5"
   ]
  },
  {
   "cell_type": "code",
   "execution_count": 18,
   "id": "fcbae2f3",
   "metadata": {},
   "outputs": [
    {
     "data": {
      "text/plain": [
       "15"
      ]
     },
     "execution_count": 18,
     "metadata": {},
     "output_type": "execute_result"
    }
   ],
   "source": [
    "x + y "
   ]
  },
  {
   "cell_type": "code",
   "execution_count": 19,
   "id": "ab569e14",
   "metadata": {},
   "outputs": [],
   "source": [
    "z = x + y"
   ]
  },
  {
   "cell_type": "code",
   "execution_count": 20,
   "id": "fb63c5d0",
   "metadata": {},
   "outputs": [],
   "source": [
    "nameUpper = name.upper()"
   ]
  },
  {
   "cell_type": "code",
   "execution_count": 21,
   "id": "9778714a",
   "metadata": {},
   "outputs": [
    {
     "data": {
      "text/plain": [
       "'TUNCAY ŞAHIN'"
      ]
     },
     "execution_count": 21,
     "metadata": {},
     "output_type": "execute_result"
    }
   ],
   "source": [
    "nameUpper"
   ]
  },
  {
   "cell_type": "code",
   "execution_count": 22,
   "id": "3a085d7b",
   "metadata": {},
   "outputs": [
    {
     "data": {
      "text/plain": [
       "'tuncay şahin'"
      ]
     },
     "execution_count": 22,
     "metadata": {},
     "output_type": "execute_result"
    }
   ],
   "source": [
    "name"
   ]
  },
  {
   "cell_type": "code",
   "execution_count": 23,
   "id": "fac6ddff",
   "metadata": {},
   "outputs": [
    {
     "name": "stdout",
     "output_type": "stream",
     "text": [
      "TUNCAY ŞAHIN\n"
     ]
    }
   ],
   "source": [
    "print (name.upper())"
   ]
  },
  {
   "cell_type": "code",
   "execution_count": 24,
   "id": "461f606e",
   "metadata": {},
   "outputs": [
    {
     "data": {
      "text/plain": [
       "12"
      ]
     },
     "execution_count": 24,
     "metadata": {},
     "output_type": "execute_result"
    }
   ],
   "source": [
    "len(name) # lenght"
   ]
  },
  {
   "cell_type": "code",
   "execution_count": 25,
   "id": "3ff3f39e",
   "metadata": {},
   "outputs": [
    {
     "name": "stdout",
     "output_type": "stream",
     "text": [
      "tuncay şahin\n"
     ]
    }
   ],
   "source": [
    "print(\"tuncay şahin\")"
   ]
  },
  {
   "cell_type": "code",
   "execution_count": 26,
   "id": "3eb065df",
   "metadata": {},
   "outputs": [
    {
     "name": "stdout",
     "output_type": "stream",
     "text": [
      "tuncay \n",
      "şahin\n"
     ]
    }
   ],
   "source": [
    "print(\"tuncay \\nşahin\")"
   ]
  },
  {
   "cell_type": "code",
   "execution_count": 27,
   "id": "4f1a2627",
   "metadata": {},
   "outputs": [],
   "source": [
    "#escape characters"
   ]
  },
  {
   "cell_type": "code",
   "execution_count": 2,
   "id": "7d8c4db0",
   "metadata": {},
   "outputs": [],
   "source": [
    "# \\n -> new line yeni satıra geçiş"
   ]
  },
  {
   "cell_type": "code",
   "execution_count": 3,
   "id": "5bee1bd2",
   "metadata": {},
   "outputs": [],
   "source": [
    "# \\ t -> tab boşluk bırakır"
   ]
  },
  {
   "cell_type": "code",
   "execution_count": 4,
   "id": "e9faa2f7",
   "metadata": {},
   "outputs": [
    {
     "name": "stdout",
     "output_type": "stream",
     "text": [
      "tuncay\tşahin\n"
     ]
    }
   ],
   "source": [
    "print(\"tuncay\\tşahin\")"
   ]
  },
  {
   "cell_type": "markdown",
   "id": "87b12582",
   "metadata": {},
   "source": [
    "# index "
   ]
  },
  {
   "cell_type": "code",
   "execution_count": 10,
   "id": "ee2275cc",
   "metadata": {},
   "outputs": [],
   "source": [
    "myString = \"hello python\""
   ]
  },
  {
   "cell_type": "code",
   "execution_count": 12,
   "id": "3d9d3f29",
   "metadata": {},
   "outputs": [
    {
     "data": {
      "text/plain": [
       "'o'"
      ]
     },
     "execution_count": 12,
     "metadata": {},
     "output_type": "execute_result"
    }
   ],
   "source": [
    "myString [4]"
   ]
  },
  {
   "cell_type": "code",
   "execution_count": 15,
   "id": "6a51b76f",
   "metadata": {},
   "outputs": [],
   "source": [
    "myName = \"james hetfield\""
   ]
  },
  {
   "cell_type": "code",
   "execution_count": 17,
   "id": "6368551a",
   "metadata": {},
   "outputs": [
    {
     "data": {
      "text/plain": [
       "'d'"
      ]
     },
     "execution_count": 17,
     "metadata": {},
     "output_type": "execute_result"
    }
   ],
   "source": [
    "myName [len(myName)-1]"
   ]
  },
  {
   "cell_type": "code",
   "execution_count": 18,
   "id": "a3292d39",
   "metadata": {},
   "outputs": [
    {
     "data": {
      "text/plain": [
       "'e'"
      ]
     },
     "execution_count": 18,
     "metadata": {},
     "output_type": "execute_result"
    }
   ],
   "source": [
    "myName[-3]"
   ]
  },
  {
   "cell_type": "code",
   "execution_count": 19,
   "id": "47523592",
   "metadata": {},
   "outputs": [
    {
     "data": {
      "text/plain": [
       "'d'"
      ]
     },
     "execution_count": 19,
     "metadata": {},
     "output_type": "execute_result"
    }
   ],
   "source": [
    "myName[len(myName)-1]"
   ]
  },
  {
   "cell_type": "code",
   "execution_count": 20,
   "id": "0cd2a0bc",
   "metadata": {},
   "outputs": [
    {
     "data": {
      "text/plain": [
       "'l'"
      ]
     },
     "execution_count": 20,
     "metadata": {},
     "output_type": "execute_result"
    }
   ],
   "source": [
    "myName[-2]"
   ]
  },
  {
   "cell_type": "code",
   "execution_count": 26,
   "id": "4f1305e9",
   "metadata": {},
   "outputs": [],
   "source": [
    "barcode = \"abcde123123982\""
   ]
  },
  {
   "cell_type": "code",
   "execution_count": 25,
   "id": "5efadd91",
   "metadata": {},
   "outputs": [
    {
     "data": {
      "text/plain": [
       "'b'"
      ]
     },
     "execution_count": 25,
     "metadata": {},
     "output_type": "execute_result"
    }
   ],
   "source": [
    "barcode [1]"
   ]
  },
  {
   "cell_type": "code",
   "execution_count": 27,
   "id": "8f615c32",
   "metadata": {},
   "outputs": [
    {
     "data": {
      "text/plain": [
       "'a'"
      ]
     },
     "execution_count": 27,
     "metadata": {},
     "output_type": "execute_result"
    }
   ],
   "source": [
    "barcode [0]"
   ]
  },
  {
   "cell_type": "code",
   "execution_count": 28,
   "id": "18963922",
   "metadata": {},
   "outputs": [
    {
     "data": {
      "text/plain": [
       "'ab'"
      ]
     },
     "execution_count": 28,
     "metadata": {},
     "output_type": "execute_result"
    }
   ],
   "source": [
    "\"a\" + \"b\""
   ]
  },
  {
   "cell_type": "code",
   "execution_count": 34,
   "id": "747f17cc",
   "metadata": {},
   "outputs": [],
   "source": [
    "name = \"tuncay\""
   ]
  },
  {
   "cell_type": "code",
   "execution_count": 35,
   "id": "a91738f0",
   "metadata": {},
   "outputs": [],
   "source": [
    "surname = \"şahin\""
   ]
  },
  {
   "cell_type": "code",
   "execution_count": 37,
   "id": "b617cbd3",
   "metadata": {},
   "outputs": [],
   "source": [
    "fullname = name +\" \"+ surname"
   ]
  },
  {
   "cell_type": "code",
   "execution_count": 38,
   "id": "6a6b6f6c",
   "metadata": {},
   "outputs": [
    {
     "data": {
      "text/plain": [
       "'tuncay şahin'"
      ]
     },
     "execution_count": 38,
     "metadata": {},
     "output_type": "execute_result"
    }
   ],
   "source": [
    "fullname"
   ]
  },
  {
   "cell_type": "code",
   "execution_count": 39,
   "id": "97fdefac",
   "metadata": {},
   "outputs": [
    {
     "data": {
      "text/plain": [
       "'tuncay şahintuncay şahintuncay şahintuncay şahintuncay şahin'"
      ]
     },
     "execution_count": 39,
     "metadata": {},
     "output_type": "execute_result"
    }
   ],
   "source": [
    "fullname * 5"
   ]
  },
  {
   "cell_type": "code",
   "execution_count": 40,
   "id": "9b058f60",
   "metadata": {},
   "outputs": [
    {
     "data": {
      "text/plain": [
       "'aaaaaaaaaaaaaaaaaaaaaaaaaaaaaaaaaaaaaaaaaaaaaaaaaaaaaaaaaaaaaaaaaaaaaaaaaaaaaaaaaaaaaaaaaaaaaaaaaaaa'"
      ]
     },
     "execution_count": 40,
     "metadata": {},
     "output_type": "execute_result"
    }
   ],
   "source": [
    "100 * \"a\" "
   ]
  },
  {
   "cell_type": "code",
   "execution_count": 41,
   "id": "fac8941b",
   "metadata": {},
   "outputs": [
    {
     "data": {
      "text/plain": [
       "'abc'"
      ]
     },
     "execution_count": 41,
     "metadata": {},
     "output_type": "execute_result"
    }
   ],
   "source": [
    "barcode[0] + barcode [1] + barcode [2]"
   ]
  },
  {
   "cell_type": "code",
   "execution_count": null,
   "id": "edf9e20b",
   "metadata": {},
   "outputs": [],
   "source": [
    "#slicing, starting index, stopping index, stepping size"
   ]
  },
  {
   "cell_type": "code",
   "execution_count": 42,
   "id": "d479b95a",
   "metadata": {},
   "outputs": [
    {
     "data": {
      "text/plain": [
       "'abcde123123982'"
      ]
     },
     "execution_count": 42,
     "metadata": {},
     "output_type": "execute_result"
    }
   ],
   "source": [
    "barcode"
   ]
  },
  {
   "cell_type": "code",
   "execution_count": 43,
   "id": "7be373a3",
   "metadata": {},
   "outputs": [
    {
     "data": {
      "text/plain": [
       "'abcde123123982'"
      ]
     },
     "execution_count": 43,
     "metadata": {},
     "output_type": "execute_result"
    }
   ],
   "source": [
    "barcode[::]"
   ]
  },
  {
   "cell_type": "code",
   "execution_count": 51,
   "id": "c1e2f827",
   "metadata": {},
   "outputs": [],
   "source": [
    "#barcode[:starting index:stopping index:stepping size]"
   ]
  },
  {
   "cell_type": "code",
   "execution_count": 45,
   "id": "167a5c28",
   "metadata": {},
   "outputs": [
    {
     "data": {
      "text/plain": [
       "'de123123982'"
      ]
     },
     "execution_count": 45,
     "metadata": {},
     "output_type": "execute_result"
    }
   ],
   "source": [
    "barcode [3::]"
   ]
  },
  {
   "cell_type": "code",
   "execution_count": 46,
   "id": "02e0d34c",
   "metadata": {},
   "outputs": [
    {
     "data": {
      "text/plain": [
       "'abc'"
      ]
     },
     "execution_count": 46,
     "metadata": {},
     "output_type": "execute_result"
    }
   ],
   "source": [
    "barcode[:3:]"
   ]
  },
  {
   "cell_type": "code",
   "execution_count": 47,
   "id": "dc86d5c6",
   "metadata": {},
   "outputs": [
    {
     "data": {
      "text/plain": [
       "'abcde'"
      ]
     },
     "execution_count": 47,
     "metadata": {},
     "output_type": "execute_result"
    }
   ],
   "source": [
    "barcode [:5:]"
   ]
  },
  {
   "cell_type": "code",
   "execution_count": 48,
   "id": "c1ddcdd4",
   "metadata": {},
   "outputs": [
    {
     "data": {
      "text/plain": [
       "'ace2138'"
      ]
     },
     "execution_count": 48,
     "metadata": {},
     "output_type": "execute_result"
    }
   ],
   "source": [
    "barcode[::2]"
   ]
  },
  {
   "cell_type": "code",
   "execution_count": 49,
   "id": "80e4a730",
   "metadata": {},
   "outputs": [
    {
     "data": {
      "text/plain": [
       "'abcde123123982'"
      ]
     },
     "execution_count": 49,
     "metadata": {},
     "output_type": "execute_result"
    }
   ],
   "source": [
    "barcode"
   ]
  },
  {
   "cell_type": "code",
   "execution_count": 50,
   "id": "71db07bf",
   "metadata": {},
   "outputs": [
    {
     "data": {
      "text/plain": [
       "'de'"
      ]
     },
     "execution_count": 50,
     "metadata": {},
     "output_type": "execute_result"
    }
   ],
   "source": [
    "barcode [3:5:]"
   ]
  },
  {
   "cell_type": "code",
   "execution_count": 52,
   "id": "6cbc892f",
   "metadata": {},
   "outputs": [
    {
     "data": {
      "text/plain": [
       "'de'"
      ]
     },
     "execution_count": 52,
     "metadata": {},
     "output_type": "execute_result"
    }
   ],
   "source": [
    "barcode[3:5]"
   ]
  },
  {
   "cell_type": "code",
   "execution_count": 53,
   "id": "b65f6c4f",
   "metadata": {},
   "outputs": [
    {
     "data": {
      "text/plain": [
       "'bd13'"
      ]
     },
     "execution_count": 53,
     "metadata": {},
     "output_type": "execute_result"
    }
   ],
   "source": [
    "barcode[1:9:2]"
   ]
  },
  {
   "cell_type": "code",
   "execution_count": 54,
   "id": "351fbb05",
   "metadata": {},
   "outputs": [
    {
     "data": {
      "text/plain": [
       "'289321321edcba'"
      ]
     },
     "execution_count": 54,
     "metadata": {},
     "output_type": "execute_result"
    }
   ],
   "source": [
    "barcode[::-1]"
   ]
  },
  {
   "cell_type": "code",
   "execution_count": 55,
   "id": "702bf0d8",
   "metadata": {},
   "outputs": [
    {
     "data": {
      "text/plain": [
       "'abcde123123982'"
      ]
     },
     "execution_count": 55,
     "metadata": {},
     "output_type": "execute_result"
    }
   ],
   "source": [
    "barcode"
   ]
  },
  {
   "cell_type": "code",
   "execution_count": 56,
   "id": "555e1ab8",
   "metadata": {},
   "outputs": [],
   "source": [
    "name = \"tuncay şahin\""
   ]
  },
  {
   "cell_type": "code",
   "execution_count": 57,
   "id": "aaa0fbb8",
   "metadata": {},
   "outputs": [
    {
     "name": "stdout",
     "output_type": "stream",
     "text": [
      "Help on built-in function index:\n",
      "\n",
      "index(...) method of builtins.str instance\n",
      "    S.index(sub[, start[, end]]) -> int\n",
      "    \n",
      "    Return the lowest index in S where substring sub is found,\n",
      "    such that sub is contained within S[start:end].  Optional\n",
      "    arguments start and end are interpreted as in slice notation.\n",
      "    \n",
      "    Raises ValueError when the substring is not found.\n",
      "\n"
     ]
    }
   ],
   "source": [
    "help(name.index)"
   ]
  },
  {
   "cell_type": "code",
   "execution_count": 58,
   "id": "f585a75f",
   "metadata": {},
   "outputs": [
    {
     "data": {
      "text/plain": [
       "1"
      ]
     },
     "execution_count": 58,
     "metadata": {},
     "output_type": "execute_result"
    }
   ],
   "source": [
    "name.index(\"u\")"
   ]
  },
  {
   "cell_type": "code",
   "execution_count": 60,
   "id": "6c67f796",
   "metadata": {},
   "outputs": [
    {
     "data": {
      "text/plain": [
       "['tuncay', 'şahin']"
      ]
     },
     "execution_count": 60,
     "metadata": {},
     "output_type": "execute_result"
    }
   ],
   "source": [
    "name.split()"
   ]
  },
  {
   "cell_type": "code",
   "execution_count": null,
   "id": "b7129395",
   "metadata": {},
   "outputs": [],
   "source": [
    "# daha önce karşılaşmadığımız bir çıktı varsa <type> yazıp çalıştırılır"
   ]
  },
  {
   "cell_type": "code",
   "execution_count": 61,
   "id": "dd4de349",
   "metadata": {},
   "outputs": [
    {
     "data": {
      "text/plain": [
       "list"
      ]
     },
     "execution_count": 61,
     "metadata": {},
     "output_type": "execute_result"
    }
   ],
   "source": [
    "type(name.split())"
   ]
  },
  {
   "cell_type": "code",
   "execution_count": null,
   "id": "9d1e1058",
   "metadata": {},
   "outputs": [],
   "source": []
  }
 ],
 "metadata": {
  "kernelspec": {
   "display_name": "Python 3 (ipykernel)",
   "language": "python",
   "name": "python3"
  },
  "language_info": {
   "codemirror_mode": {
    "name": "ipython",
    "version": 3
   },
   "file_extension": ".py",
   "mimetype": "text/x-python",
   "name": "python",
   "nbconvert_exporter": "python",
   "pygments_lexer": "ipython3",
   "version": "3.10.9"
  }
 },
 "nbformat": 4,
 "nbformat_minor": 5
}
