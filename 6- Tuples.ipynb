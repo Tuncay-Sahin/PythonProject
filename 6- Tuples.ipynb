{
 "cells": [
  {
   "cell_type": "code",
   "execution_count": 1,
   "id": "25cd65bd",
   "metadata": {},
   "outputs": [],
   "source": [
    "myList = [10,\"a\",\"b\",3.14]"
   ]
  },
  {
   "cell_type": "code",
   "execution_count": 2,
   "id": "2801b3a1",
   "metadata": {},
   "outputs": [
    {
     "data": {
      "text/plain": [
       "10"
      ]
     },
     "execution_count": 2,
     "metadata": {},
     "output_type": "execute_result"
    }
   ],
   "source": [
    "myList[0]"
   ]
  },
  {
   "cell_type": "code",
   "execution_count": 3,
   "id": "cd9361ae",
   "metadata": {},
   "outputs": [],
   "source": [
    "myList[0] = 100"
   ]
  },
  {
   "cell_type": "code",
   "execution_count": 4,
   "id": "e867ad9b",
   "metadata": {},
   "outputs": [
    {
     "data": {
      "text/plain": [
       "[100, 'a', 'b', 3.14]"
      ]
     },
     "execution_count": 4,
     "metadata": {},
     "output_type": "execute_result"
    }
   ],
   "source": [
    "myList"
   ]
  },
  {
   "cell_type": "code",
   "execution_count": 5,
   "id": "e06a4a49",
   "metadata": {},
   "outputs": [],
   "source": [
    "#tuple"
   ]
  },
  {
   "cell_type": "code",
   "execution_count": 6,
   "id": "b98d42fa",
   "metadata": {},
   "outputs": [],
   "source": [
    "myTuple = (10, \"a\",\"b\",3.14)"
   ]
  },
  {
   "cell_type": "code",
   "execution_count": 7,
   "id": "ec080ab3",
   "metadata": {},
   "outputs": [
    {
     "data": {
      "text/plain": [
       "tuple"
      ]
     },
     "execution_count": 7,
     "metadata": {},
     "output_type": "execute_result"
    }
   ],
   "source": [
    "type(myTuple)"
   ]
  },
  {
   "cell_type": "code",
   "execution_count": 8,
   "id": "5ff519bc",
   "metadata": {},
   "outputs": [
    {
     "data": {
      "text/plain": [
       "10"
      ]
     },
     "execution_count": 8,
     "metadata": {},
     "output_type": "execute_result"
    }
   ],
   "source": [
    "myTuple[0]"
   ]
  },
  {
   "cell_type": "code",
   "execution_count": 9,
   "id": "d6a7fcb4",
   "metadata": {},
   "outputs": [],
   "source": [
    "#myTuple[0] = 100"
   ]
  },
  {
   "cell_type": "code",
   "execution_count": 10,
   "id": "ea3d4de1",
   "metadata": {},
   "outputs": [],
   "source": [
    "#immutability"
   ]
  },
  {
   "cell_type": "code",
   "execution_count": 11,
   "id": "e1a18dff",
   "metadata": {},
   "outputs": [
    {
     "data": {
      "text/plain": [
       "1"
      ]
     },
     "execution_count": 11,
     "metadata": {},
     "output_type": "execute_result"
    }
   ],
   "source": [
    "myTuple.index(\"a\")"
   ]
  },
  {
   "cell_type": "code",
   "execution_count": 12,
   "id": "85822c9a",
   "metadata": {},
   "outputs": [
    {
     "data": {
      "text/plain": [
       "1"
      ]
     },
     "execution_count": 12,
     "metadata": {},
     "output_type": "execute_result"
    }
   ],
   "source": [
    "myTuple.count(\"a\")"
   ]
  },
  {
   "cell_type": "code",
   "execution_count": 13,
   "id": "e49caa6d",
   "metadata": {},
   "outputs": [],
   "source": [
    "resultTuple = (10,100,20)"
   ]
  },
  {
   "cell_type": "code",
   "execution_count": 14,
   "id": "b85ac2c8",
   "metadata": {},
   "outputs": [
    {
     "data": {
      "text/plain": [
       "(10, 100, 20)"
      ]
     },
     "execution_count": 14,
     "metadata": {},
     "output_type": "execute_result"
    }
   ],
   "source": [
    "resultTuple"
   ]
  },
  {
   "cell_type": "code",
   "execution_count": 15,
   "id": "a749f2c0",
   "metadata": {},
   "outputs": [],
   "source": [
    "resultList = list(resultTuple)"
   ]
  },
  {
   "cell_type": "code",
   "execution_count": 16,
   "id": "067175f4",
   "metadata": {},
   "outputs": [
    {
     "data": {
      "text/plain": [
       "[10, 100, 20]"
      ]
     },
     "execution_count": 16,
     "metadata": {},
     "output_type": "execute_result"
    }
   ],
   "source": [
    "resultList"
   ]
  },
  {
   "cell_type": "code",
   "execution_count": null,
   "id": "e8cdd59d",
   "metadata": {},
   "outputs": [],
   "source": []
  }
 ],
 "metadata": {
  "kernelspec": {
   "display_name": "Python 3 (ipykernel)",
   "language": "python",
   "name": "python3"
  },
  "language_info": {
   "codemirror_mode": {
    "name": "ipython",
    "version": 3
   },
   "file_extension": ".py",
   "mimetype": "text/x-python",
   "name": "python",
   "nbconvert_exporter": "python",
   "pygments_lexer": "ipython3",
   "version": "3.10.9"
  }
 },
 "nbformat": 4,
 "nbformat_minor": 5
}
