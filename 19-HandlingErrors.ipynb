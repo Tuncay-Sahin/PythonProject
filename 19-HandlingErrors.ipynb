{
 "cells": [
  {
   "cell_type": "code",
   "execution_count": 1,
   "id": "8187b191",
   "metadata": {},
   "outputs": [],
   "source": [
    "# try - except"
   ]
  },
  {
   "cell_type": "code",
   "execution_count": 2,
   "id": "9588fcc1",
   "metadata": {},
   "outputs": [
    {
     "name": "stdout",
     "output_type": "stream",
     "text": [
      "enter age34\n",
      "68\n"
     ]
    }
   ],
   "source": [
    "try :\n",
    "    myAge = int(input(\"enter age\"))\n",
    "    print(myAge * 2)\n",
    "except:\n",
    "    print(\"enter your age!!!\")\n",
    "    #except, temelde yanlış girdi girildiğinde uygulamanın çökmewini engelleyen doğru girdi girilmesi yönünde \n",
    "    #koddan uyarı alınmasını sağlıyor."
   ]
  },
  {
   "cell_type": "code",
   "execution_count": 4,
   "id": "d427dca8",
   "metadata": {},
   "outputs": [
    {
     "name": "stdout",
     "output_type": "stream",
     "text": [
      "enter age: tuncay\n",
      "enter your age!!!\n",
      "enter age: 34\n",
      "68\n"
     ]
    }
   ],
   "source": [
    "while True:\n",
    "    try:\n",
    "        myAge = int(input(\"enter age: \"))\n",
    "        print(myAge * 2)\n",
    "        break\n",
    "    except:\n",
    "        print(\"enter your age!!!\")"
   ]
  },
  {
   "cell_type": "code",
   "execution_count": 5,
   "id": "3e74b4c4",
   "metadata": {},
   "outputs": [
    {
     "name": "stdout",
     "output_type": "stream",
     "text": [
      "enter age: tuncay\n",
      "enter your age!!!\n",
      "finally\n",
      "enter age: 34\n",
      "68\n",
      "finally\n"
     ]
    }
   ],
   "source": [
    "while True:\n",
    "    try:\n",
    "        myAge = int(input(\"enter age: \"))\n",
    "        print(myAge * 2)\n",
    "        break\n",
    "    except:\n",
    "        print(\"enter your age!!!\")\n",
    "    else:\n",
    "        print(\"else executed\")\n",
    "    finally:\n",
    "        print(\"finally\")"
   ]
  },
  {
   "cell_type": "code",
   "execution_count": null,
   "id": "43d0ab8b",
   "metadata": {},
   "outputs": [],
   "source": []
  }
 ],
 "metadata": {
  "kernelspec": {
   "display_name": "Python 3 (ipykernel)",
   "language": "python",
   "name": "python3"
  },
  "language_info": {
   "codemirror_mode": {
    "name": "ipython",
    "version": 3
   },
   "file_extension": ".py",
   "mimetype": "text/x-python",
   "name": "python",
   "nbconvert_exporter": "python",
   "pygments_lexer": "ipython3",
   "version": "3.10.9"
  }
 },
 "nbformat": 4,
 "nbformat_minor": 5
}
