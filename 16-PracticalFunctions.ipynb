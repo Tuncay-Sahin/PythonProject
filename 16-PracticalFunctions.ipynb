{
 "cells": [
  {
   "cell_type": "code",
   "execution_count": 1,
   "id": "db314c4a",
   "metadata": {},
   "outputs": [],
   "source": [
    "def divideNumber(number):\n",
    "    return number / 2"
   ]
  },
  {
   "cell_type": "code",
   "execution_count": 2,
   "id": "670b5b9e",
   "metadata": {},
   "outputs": [
    {
     "data": {
      "text/plain": [
       "10.0"
      ]
     },
     "execution_count": 2,
     "metadata": {},
     "output_type": "execute_result"
    }
   ],
   "source": [
    "divideNumber(20)"
   ]
  },
  {
   "cell_type": "code",
   "execution_count": 3,
   "id": "bf9c9316",
   "metadata": {},
   "outputs": [],
   "source": [
    "myList = [3,5,7,10,20,30]"
   ]
  },
  {
   "cell_type": "code",
   "execution_count": 4,
   "id": "994e2d13",
   "metadata": {},
   "outputs": [
    {
     "name": "stdout",
     "output_type": "stream",
     "text": [
      "[1.5, 2.5, 3.5, 5.0, 10.0, 15.0]\n"
     ]
    }
   ],
   "source": [
    "myResultList = []\n",
    "for num in myList:\n",
    "    myResultList.append(divideNumber(num))\n",
    "print(myResultList)"
   ]
  },
  {
   "cell_type": "markdown",
   "id": "b09e5d86",
   "metadata": {},
   "source": [
    "# map"
   ]
  },
  {
   "cell_type": "code",
   "execution_count": 5,
   "id": "28648042",
   "metadata": {},
   "outputs": [
    {
     "name": "stdout",
     "output_type": "stream",
     "text": [
      "Help on class map in module builtins:\n",
      "\n",
      "class map(object)\n",
      " |  map(func, *iterables) --> map object\n",
      " |  \n",
      " |  Make an iterator that computes the function using arguments from\n",
      " |  each of the iterables.  Stops when the shortest iterable is exhausted.\n",
      " |  \n",
      " |  Methods defined here:\n",
      " |  \n",
      " |  __getattribute__(self, name, /)\n",
      " |      Return getattr(self, name).\n",
      " |  \n",
      " |  __iter__(self, /)\n",
      " |      Implement iter(self).\n",
      " |  \n",
      " |  __next__(self, /)\n",
      " |      Implement next(self).\n",
      " |  \n",
      " |  __reduce__(...)\n",
      " |      Return state information for pickling.\n",
      " |  \n",
      " |  ----------------------------------------------------------------------\n",
      " |  Static methods defined here:\n",
      " |  \n",
      " |  __new__(*args, **kwargs) from builtins.type\n",
      " |      Create and return a new object.  See help(type) for accurate signature.\n",
      "\n"
     ]
    }
   ],
   "source": [
    "help(map)"
   ]
  },
  {
   "cell_type": "code",
   "execution_count": 6,
   "id": "455ac631",
   "metadata": {},
   "outputs": [
    {
     "data": {
      "text/plain": [
       "[1.5, 2.5, 3.5, 5.0, 10.0, 15.0]"
      ]
     },
     "execution_count": 6,
     "metadata": {},
     "output_type": "execute_result"
    }
   ],
   "source": [
    "list(map(divideNumber,myList))"
   ]
  },
  {
   "cell_type": "code",
   "execution_count": 7,
   "id": "c358a302",
   "metadata": {},
   "outputs": [],
   "source": [
    "def controlString(string):\n",
    "    return\"tuncay\" in string"
   ]
  },
  {
   "cell_type": "code",
   "execution_count": 8,
   "id": "b995ef7e",
   "metadata": {},
   "outputs": [
    {
     "data": {
      "text/plain": [
       "True"
      ]
     },
     "execution_count": 8,
     "metadata": {},
     "output_type": "execute_result"
    }
   ],
   "source": [
    "controlString(\"tuncay Sahin\")"
   ]
  },
  {
   "cell_type": "code",
   "execution_count": 9,
   "id": "d0f74b1f",
   "metadata": {},
   "outputs": [
    {
     "data": {
      "text/plain": [
       "False"
      ]
     },
     "execution_count": 9,
     "metadata": {},
     "output_type": "execute_result"
    }
   ],
   "source": [
    "controlString(\"sahin\")"
   ]
  },
  {
   "cell_type": "code",
   "execution_count": 10,
   "id": "e1402a7b",
   "metadata": {},
   "outputs": [],
   "source": [
    "myStringList = [\"tuncay\",\"tuncay Sahin\",\"Sahin\",\"Atlas\"]"
   ]
  },
  {
   "cell_type": "code",
   "execution_count": 11,
   "id": "5c734a31",
   "metadata": {},
   "outputs": [
    {
     "data": {
      "text/plain": [
       "[True, True, False, False]"
      ]
     },
     "execution_count": 11,
     "metadata": {},
     "output_type": "execute_result"
    }
   ],
   "source": [
    "list(map(controlString,myStringList))"
   ]
  },
  {
   "cell_type": "markdown",
   "id": "aab25429",
   "metadata": {},
   "source": [
    "# filter"
   ]
  },
  {
   "cell_type": "code",
   "execution_count": 12,
   "id": "50c16ec6",
   "metadata": {},
   "outputs": [
    {
     "data": {
      "text/plain": [
       "['tuncay', 'tuncay Sahin']"
      ]
     },
     "execution_count": 12,
     "metadata": {},
     "output_type": "execute_result"
    }
   ],
   "source": [
    "list(filter(controlString,myStringList))"
   ]
  },
  {
   "cell_type": "markdown",
   "id": "d4297415",
   "metadata": {},
   "source": [
    "# lambda"
   ]
  },
  {
   "cell_type": "code",
   "execution_count": 13,
   "id": "f23f2c7e",
   "metadata": {},
   "outputs": [],
   "source": [
    "multiplyLambda = lambda num : num * 3"
   ]
  },
  {
   "cell_type": "code",
   "execution_count": 14,
   "id": "723984eb",
   "metadata": {},
   "outputs": [
    {
     "data": {
      "text/plain": [
       "function"
      ]
     },
     "execution_count": 14,
     "metadata": {},
     "output_type": "execute_result"
    }
   ],
   "source": [
    "type(multiplyLambda)"
   ]
  },
  {
   "cell_type": "code",
   "execution_count": 15,
   "id": "262fa6f1",
   "metadata": {},
   "outputs": [
    {
     "data": {
      "text/plain": [
       "60"
      ]
     },
     "execution_count": 15,
     "metadata": {},
     "output_type": "execute_result"
    }
   ],
   "source": [
    "multiplyLambda(20)"
   ]
  },
  {
   "cell_type": "code",
   "execution_count": 16,
   "id": "ff653bf3",
   "metadata": {},
   "outputs": [],
   "source": [
    "result = multiplyLambda(10)"
   ]
  },
  {
   "cell_type": "code",
   "execution_count": 17,
   "id": "e0f52ed5",
   "metadata": {},
   "outputs": [
    {
     "data": {
      "text/plain": [
       "30"
      ]
     },
     "execution_count": 17,
     "metadata": {},
     "output_type": "execute_result"
    }
   ],
   "source": [
    "result"
   ]
  },
  {
   "cell_type": "code",
   "execution_count": 18,
   "id": "0ea40b6e",
   "metadata": {},
   "outputs": [],
   "source": [
    "numList = [10,20,30,40,50]"
   ]
  },
  {
   "cell_type": "code",
   "execution_count": 19,
   "id": "5228a8ec",
   "metadata": {},
   "outputs": [
    {
     "data": {
      "text/plain": [
       "[2.5, 5.0, 7.5, 10.0, 12.5]"
      ]
     },
     "execution_count": 19,
     "metadata": {},
     "output_type": "execute_result"
    }
   ],
   "source": [
    "list(map(lambda num:num/4,numList))"
   ]
  },
  {
   "cell_type": "markdown",
   "id": "7f57fdb9",
   "metadata": {},
   "source": [
    "# scope"
   ]
  },
  {
   "cell_type": "code",
   "execution_count": 20,
   "id": "c40ed066",
   "metadata": {},
   "outputs": [],
   "source": [
    "x = 20\n",
    "\n",
    "def multiply(num):\n",
    "    x = 5\n",
    "    return num * x"
   ]
  },
  {
   "cell_type": "code",
   "execution_count": 21,
   "id": "2e8a63a9",
   "metadata": {},
   "outputs": [
    {
     "data": {
      "text/plain": [
       "50"
      ]
     },
     "execution_count": 21,
     "metadata": {},
     "output_type": "execute_result"
    }
   ],
   "source": [
    "multiply(10)"
   ]
  },
  {
   "cell_type": "code",
   "execution_count": 22,
   "id": "5936ffde",
   "metadata": {},
   "outputs": [
    {
     "name": "stdout",
     "output_type": "stream",
     "text": [
      "20\n"
     ]
    }
   ],
   "source": [
    "print(x)"
   ]
  },
  {
   "cell_type": "code",
   "execution_count": 23,
   "id": "01624f60",
   "metadata": {},
   "outputs": [],
   "source": [
    "a = 10"
   ]
  },
  {
   "cell_type": "code",
   "execution_count": 24,
   "id": "555c9508",
   "metadata": {},
   "outputs": [
    {
     "data": {
      "text/plain": [
       "10"
      ]
     },
     "execution_count": 24,
     "metadata": {},
     "output_type": "execute_result"
    }
   ],
   "source": [
    "a"
   ]
  },
  {
   "cell_type": "code",
   "execution_count": 25,
   "id": "ffb40bbf",
   "metadata": {},
   "outputs": [],
   "source": [
    "a = 20"
   ]
  },
  {
   "cell_type": "code",
   "execution_count": 26,
   "id": "01c49ab4",
   "metadata": {},
   "outputs": [
    {
     "data": {
      "text/plain": [
       "20"
      ]
     },
     "execution_count": 26,
     "metadata": {},
     "output_type": "execute_result"
    }
   ],
   "source": [
    "a"
   ]
  },
  {
   "cell_type": "code",
   "execution_count": 27,
   "id": "d110917b",
   "metadata": {},
   "outputs": [],
   "source": [
    "x = 20\n",
    "\n",
    "def multiply(num):\n",
    "    x = 5\n",
    "    return num * x\n",
    "\n",
    "x = 10"
   ]
  },
  {
   "cell_type": "code",
   "execution_count": 28,
   "id": "5ac26eda",
   "metadata": {},
   "outputs": [
    {
     "data": {
      "text/plain": [
       "10"
      ]
     },
     "execution_count": 28,
     "metadata": {},
     "output_type": "execute_result"
    }
   ],
   "source": [
    "x"
   ]
  },
  {
   "cell_type": "code",
   "execution_count": 29,
   "id": "e99fd5e0",
   "metadata": {},
   "outputs": [
    {
     "data": {
      "text/plain": [
       "15"
      ]
     },
     "execution_count": 29,
     "metadata": {},
     "output_type": "execute_result"
    }
   ],
   "source": [
    "multiply(3)"
   ]
  },
  {
   "cell_type": "code",
   "execution_count": 30,
   "id": "edf85a44",
   "metadata": {},
   "outputs": [],
   "source": [
    "x = 20\n",
    "\n",
    "def multiply(num):\n",
    "    return num * x"
   ]
  },
  {
   "cell_type": "code",
   "execution_count": 31,
   "id": "3372c9d1",
   "metadata": {},
   "outputs": [
    {
     "data": {
      "text/plain": [
       "200"
      ]
     },
     "execution_count": 31,
     "metadata": {},
     "output_type": "execute_result"
    }
   ],
   "source": [
    "multiply(10)"
   ]
  },
  {
   "cell_type": "markdown",
   "id": "39698adf",
   "metadata": {},
   "source": [
    "# LEGB -> L ->Local, E->Enclosing, G->Global, B->Built-in"
   ]
  },
  {
   "cell_type": "code",
   "execution_count": 36,
   "id": "9c122ad2",
   "metadata": {},
   "outputs": [],
   "source": [
    "myString = \"tuncay\"\n",
    "\n",
    "def myFunction():\n",
    "    myString = \"tuncay 2\"\n",
    "    \n",
    "    def myFunction2():\n",
    "        myString = \"tuncay 3\"\n",
    "        print(myString)\n",
    "    \n",
    "    myFunction2()"
   ]
  },
  {
   "cell_type": "code",
   "execution_count": 37,
   "id": "c999c321",
   "metadata": {},
   "outputs": [
    {
     "data": {
      "text/plain": [
       "'tuncay'"
      ]
     },
     "execution_count": 37,
     "metadata": {},
     "output_type": "execute_result"
    }
   ],
   "source": [
    "myString"
   ]
  },
  {
   "cell_type": "code",
   "execution_count": 38,
   "id": "5decc213",
   "metadata": {},
   "outputs": [
    {
     "name": "stdout",
     "output_type": "stream",
     "text": [
      "tuncay 3\n"
     ]
    }
   ],
   "source": [
    "myFunction()"
   ]
  },
  {
   "cell_type": "code",
   "execution_count": 41,
   "id": "2fb8a2bd",
   "metadata": {},
   "outputs": [],
   "source": [
    "#Global\n",
    "myString = \"tuncay\"\n",
    "\n",
    "def myFunction():\n",
    "    #Enclosing\n",
    "    myString = \"tuncay 2\"\n",
    "    print(myString)\n",
    "    \n",
    "    def myFunction2():\n",
    "        #Local\n",
    "        myString = \"tuncay 3\"\n",
    "        print(myString)\n",
    "    \n",
    "    myFunction2()"
   ]
  },
  {
   "cell_type": "code",
   "execution_count": 42,
   "id": "182c710a",
   "metadata": {},
   "outputs": [
    {
     "name": "stdout",
     "output_type": "stream",
     "text": [
      "tuncay 2\n",
      "tuncay 3\n"
     ]
    }
   ],
   "source": [
    "myFunction()"
   ]
  },
  {
   "cell_type": "code",
   "execution_count": null,
   "id": "9dc56ae6",
   "metadata": {},
   "outputs": [],
   "source": []
  },
  {
   "cell_type": "code",
   "execution_count": null,
   "id": "4da2d0c0",
   "metadata": {},
   "outputs": [],
   "source": []
  }
 ],
 "metadata": {
  "kernelspec": {
   "display_name": "Python 3 (ipykernel)",
   "language": "python",
   "name": "python3"
  },
  "language_info": {
   "codemirror_mode": {
    "name": "ipython",
    "version": 3
   },
   "file_extension": ".py",
   "mimetype": "text/x-python",
   "name": "python",
   "nbconvert_exporter": "python",
   "pygments_lexer": "ipython3",
   "version": "3.10.9"
  }
 },
 "nbformat": 4,
 "nbformat_minor": 5
}
