{
 "cells": [
  {
   "cell_type": "code",
   "execution_count": 1,
   "id": "cbb72771",
   "metadata": {},
   "outputs": [],
   "source": [
    "# 1) Aşağıdaki kodun çıktısı ne olacaktır?"
   ]
  },
  {
   "cell_type": "code",
   "execution_count": 2,
   "id": "39438b32",
   "metadata": {},
   "outputs": [],
   "source": [
    "x = 5 \n",
    "y = 3\n",
    "z = 6"
   ]
  },
  {
   "cell_type": "code",
   "execution_count": 3,
   "id": "64146328",
   "metadata": {},
   "outputs": [
    {
     "data": {
      "text/plain": [
       "True"
      ]
     },
     "execution_count": 3,
     "metadata": {},
     "output_type": "execute_result"
    }
   ],
   "source": [
    "x > y and z > x"
   ]
  },
  {
   "cell_type": "code",
   "execution_count": 4,
   "id": "5e085bed",
   "metadata": {},
   "outputs": [],
   "source": [
    "# 2) Aynı değerlerle kod şu şekilde değiştirilirse ne olur? "
   ]
  },
  {
   "cell_type": "code",
   "execution_count": 5,
   "id": "aef224ad",
   "metadata": {},
   "outputs": [
    {
     "data": {
      "text/plain": [
       "True"
      ]
     },
     "execution_count": 5,
     "metadata": {},
     "output_type": "execute_result"
    }
   ],
   "source": [
    "x < y or z > y"
   ]
  },
  {
   "cell_type": "code",
   "execution_count": 6,
   "id": "e53e85a5",
   "metadata": {},
   "outputs": [],
   "source": [
    "# 3) Aşağıdaki kodun çıktısı ne olacaktır? "
   ]
  },
  {
   "cell_type": "code",
   "execution_count": 7,
   "id": "85fa6ec1",
   "metadata": {},
   "outputs": [
    {
     "name": "stdout",
     "output_type": "stream",
     "text": [
      "18 ile 30 yaş arasında bir gençsiniz\n"
     ]
    }
   ],
   "source": [
    "age = 20\n",
    "\n",
    "if age < 18:\n",
    "    print(\"18 yaşından küçüksünüz\")\n",
    "elif age >= 18 and age < 30:\n",
    "    print(\"18 ile 30 yaş arasında bir gençsiniz\")\n",
    "elif age >= 30 and age < 40:\n",
    "    print(\"30 ve 40 arasına gelmişsiniz\")\n",
    "else:\n",
    "    print(\"40 yaşından daha büyüksünüz\")"
   ]
  },
  {
   "cell_type": "code",
   "execution_count": 8,
   "id": "1fb9ed1a",
   "metadata": {},
   "outputs": [],
   "source": [
    "# 4) Aşağıdaki sözlükte, değerler içinde c harfinin geçip geçmediğini gösteren bir if koşulu yazınız"
   ]
  },
  {
   "cell_type": "code",
   "execution_count": 9,
   "id": "1141f7e0",
   "metadata": {},
   "outputs": [],
   "source": [
    "my_dictionary = {\"k1\":10,\"k2k\":\"a\",\"k32\":30,\"k4\":\"c\"}"
   ]
  },
  {
   "cell_type": "code",
   "execution_count": 11,
   "id": "62ea6ffe",
   "metadata": {},
   "outputs": [
    {
     "name": "stdout",
     "output_type": "stream",
     "text": [
      "evet\n"
     ]
    }
   ],
   "source": [
    "if \"c\" in my_dictionary.values():\n",
    "    print(\"evet\")"
   ]
  },
  {
   "cell_type": "code",
   "execution_count": 12,
   "id": "a7a267dc",
   "metadata": {},
   "outputs": [],
   "source": [
    "# 5) Aşağıdaki sözlükte, anahtarlar içinde a harfinin geçip geçmediğni gösteren bir if koşul yazınız."
   ]
  },
  {
   "cell_type": "code",
   "execution_count": 16,
   "id": "5c26d7f7",
   "metadata": {},
   "outputs": [],
   "source": [
    "my_other_dictionary = {\"b\":203,\"c\":\"a\",\"a\":400,\"d\":\"f\"}"
   ]
  },
  {
   "cell_type": "code",
   "execution_count": 17,
   "id": "f555446b",
   "metadata": {},
   "outputs": [
    {
     "name": "stdout",
     "output_type": "stream",
     "text": [
      "evet\n"
     ]
    }
   ],
   "source": [
    "if \"a\" in my_other_dictionary.keys():\n",
    "    print(\"evet\")"
   ]
  },
  {
   "cell_type": "code",
   "execution_count": 18,
   "id": "7a568295",
   "metadata": {},
   "outputs": [],
   "source": [
    "# 6) Aşağıdaki listedeki sayıların sadece çift sayı olanları yazdıran bir kod yazınız."
   ]
  },
  {
   "cell_type": "code",
   "execution_count": 19,
   "id": "77f2278d",
   "metadata": {},
   "outputs": [],
   "source": [
    "my_numbers = {1,2,3,4,5,6,7,19,20,32,21,111,23,24}"
   ]
  },
  {
   "cell_type": "code",
   "execution_count": 20,
   "id": "ce2d8955",
   "metadata": {},
   "outputs": [
    {
     "name": "stdout",
     "output_type": "stream",
     "text": [
      "32\n",
      "2\n",
      "4\n",
      "6\n",
      "20\n",
      "24\n"
     ]
    }
   ],
   "source": [
    "for num in my_numbers: \n",
    "    if num % 2 == 0:\n",
    "        print(num)"
   ]
  },
  {
   "cell_type": "code",
   "execution_count": 21,
   "id": "1f1aa81e",
   "metadata": {},
   "outputs": [],
   "source": [
    "# 7) Aşağıdaki listedeki sayılar bir dairenin yarı çapını vermektedir."
   ]
  },
  {
   "cell_type": "code",
   "execution_count": 22,
   "id": "53fb946e",
   "metadata": {},
   "outputs": [],
   "source": [
    "#Tüm dairelerin çevresini içeren başka yeni bir liste oluşturunuz. (ipucu: 2 * pi * r) Pi 3.14 alınabilir. "
   ]
  },
  {
   "cell_type": "code",
   "execution_count": 23,
   "id": "2dfeec7c",
   "metadata": {},
   "outputs": [],
   "source": [
    "r_list = [3,2,5,8,4,6,9,12]"
   ]
  },
  {
   "cell_type": "code",
   "execution_count": 24,
   "id": "acf5d16e",
   "metadata": {},
   "outputs": [],
   "source": [
    "pi = 3.14"
   ]
  },
  {
   "cell_type": "code",
   "execution_count": 28,
   "id": "484e4ed5",
   "metadata": {},
   "outputs": [],
   "source": [
    "cevre_listesi = []\n",
    "\n",
    "for r in r_list:\n",
    "    cevre_listesi.append(2*pi*r)"
   ]
  },
  {
   "cell_type": "code",
   "execution_count": 29,
   "id": "857f7c54",
   "metadata": {},
   "outputs": [
    {
     "data": {
      "text/plain": [
       "[18.84, 12.56, 31.400000000000002, 50.24, 25.12, 37.68, 56.52, 75.36]"
      ]
     },
     "execution_count": 29,
     "metadata": {},
     "output_type": "execute_result"
    }
   ],
   "source": [
    "cevre_listesi"
   ]
  },
  {
   "cell_type": "code",
   "execution_count": 30,
   "id": "41dd8746",
   "metadata": {},
   "outputs": [],
   "source": [
    "# 8) Aşağıdaki listede isim - yaş eşleşmelrinin bulunduğu yapılar mevcuttur."
   ]
  },
  {
   "cell_type": "code",
   "execution_count": 31,
   "id": "bbe183bb",
   "metadata": {},
   "outputs": [],
   "source": [
    "# sadece yaşların olduğu yeni ve ayrı bir liste oluşturunuz."
   ]
  },
  {
   "cell_type": "code",
   "execution_count": 33,
   "id": "2f40b37b",
   "metadata": {},
   "outputs": [],
   "source": [
    "age_name_list = [(\"altay\",30),(\"ayyüce\",24),(\"mete\",40),(\"ferhunde\",29)]"
   ]
  },
  {
   "cell_type": "code",
   "execution_count": 35,
   "id": "d68b05d6",
   "metadata": {},
   "outputs": [],
   "source": [
    "yas_listesi = []\n",
    "for (isim,yas) in age_name_list:\n",
    "    yas_listesi.append(yas)"
   ]
  },
  {
   "cell_type": "code",
   "execution_count": 36,
   "id": "a5e2f374",
   "metadata": {},
   "outputs": [
    {
     "data": {
      "text/plain": [
       "[30, 24, 40, 29]"
      ]
     },
     "execution_count": 36,
     "metadata": {},
     "output_type": "execute_result"
    }
   ],
   "source": [
    "yas_listesi"
   ]
  },
  {
   "cell_type": "code",
   "execution_count": 37,
   "id": "48e03353",
   "metadata": {},
   "outputs": [],
   "source": [
    "# 9) Aşağıdaki müzik gruplarından birini rastgele yazıdıran bir kod yazınız"
   ]
  },
  {
   "cell_type": "code",
   "execution_count": 38,
   "id": "efe9d0d8",
   "metadata": {},
   "outputs": [],
   "source": [
    "metal_list = [\"metallica\",\"ıron maiden\",\"dream theater\",\"megadeth\",\"AC/DC\"]"
   ]
  },
  {
   "cell_type": "code",
   "execution_count": 39,
   "id": "4bebce35",
   "metadata": {},
   "outputs": [],
   "source": [
    "from random import randint"
   ]
  },
  {
   "cell_type": "code",
   "execution_count": 42,
   "id": "0b602183",
   "metadata": {},
   "outputs": [
    {
     "data": {
      "text/plain": [
       "'AC/DC'"
      ]
     },
     "execution_count": 42,
     "metadata": {},
     "output_type": "execute_result"
    }
   ],
   "source": [
    "metal_list[randint(0,len(metal_list)-1)]"
   ]
  },
  {
   "cell_type": "code",
   "execution_count": 43,
   "id": "ed2f7e16",
   "metadata": {},
   "outputs": [
    {
     "data": {
      "text/plain": [
       "'dream theater'"
      ]
     },
     "execution_count": 43,
     "metadata": {},
     "output_type": "execute_result"
    }
   ],
   "source": [
    "metal_list[randint(0,len(metal_list)-1)]"
   ]
  },
  {
   "cell_type": "code",
   "execution_count": 44,
   "id": "7f22b2e8",
   "metadata": {},
   "outputs": [
    {
     "data": {
      "text/plain": [
       "'AC/DC'"
      ]
     },
     "execution_count": 44,
     "metadata": {},
     "output_type": "execute_result"
    }
   ],
   "source": [
    "metal_list[randint(0,len(metal_list)-1)]"
   ]
  },
  {
   "cell_type": "code",
   "execution_count": 45,
   "id": "6de3f3c8",
   "metadata": {},
   "outputs": [],
   "source": [
    "# 10) Aşağıdaki kodun çıktısı ne olacaktır?"
   ]
  },
  {
   "cell_type": "code",
   "execution_count": 47,
   "id": "ffedea9a",
   "metadata": {},
   "outputs": [],
   "source": [
    "number_list = [5,7,18,21,20,10,405,24]"
   ]
  },
  {
   "cell_type": "code",
   "execution_count": 48,
   "id": "d2d812d4",
   "metadata": {},
   "outputs": [
    {
     "data": {
      "text/plain": [
       "[False, False, True, False, True, True, False, True]"
      ]
     },
     "execution_count": 48,
     "metadata": {},
     "output_type": "execute_result"
    }
   ],
   "source": [
    "[num % 2 == 0 for num in number_list]"
   ]
  },
  {
   "cell_type": "code",
   "execution_count": null,
   "id": "3164fa85",
   "metadata": {},
   "outputs": [],
   "source": []
  }
 ],
 "metadata": {
  "kernelspec": {
   "display_name": "Python 3 (ipykernel)",
   "language": "python",
   "name": "python3"
  },
  "language_info": {
   "codemirror_mode": {
    "name": "ipython",
    "version": 3
   },
   "file_extension": ".py",
   "mimetype": "text/x-python",
   "name": "python",
   "nbconvert_exporter": "python",
   "pygments_lexer": "ipython3",
   "version": "3.10.9"
  }
 },
 "nbformat": 4,
 "nbformat_minor": 5
}
